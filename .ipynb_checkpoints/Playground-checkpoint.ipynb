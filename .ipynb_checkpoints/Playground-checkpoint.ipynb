{
 "cells": [
  {
   "cell_type": "code",
   "execution_count": 1,
   "metadata": {},
   "outputs": [],
   "source": [
    "from tools import *\n",
    "from strategies import *\n",
    "import pandas as pd\n",
    "import matplotlib.pyplot as plt"
   ]
  },
  {
   "cell_type": "markdown",
   "metadata": {},
   "source": [
    "Testing RatioAnalysis Strategy using Gold as a Reference"
   ]
  },
  {
   "cell_type": "code",
   "execution_count": 2,
   "metadata": {},
   "outputs": [
    {
     "name": "stdout",
     "output_type": "stream",
     "text": [
      "Pulling Information on the Symbol GC=F/n\n"
     ]
    }
   ],
   "source": [
    "#Specify both a time period and an interval to scrape data from Yahoo Finance\n",
    "timeperiod = \"1y\"\n",
    "interval = \"1d\"\n",
    "\n",
    "reference = pull_symbol(\"GC=F\",\"1y\",\"1d\")\n",
    "comparison = [\"SI=F\", \"BZ=F\", \"B0=F\", \"ZC=F\", \"ZO=F\",\"PL=F\",\"HG=F\",\"PA=F\", \"CL=F\", \"NG=F\",\n",
    "             \"ZS=F\", \"CC=F\", \"KC=F\"]\n",
    "symbolhistory = []\n",
    "commodityname = []\n",
    "ratio = []"
   ]
  },
  {
   "cell_type": "code",
   "execution_count": 3,
   "metadata": {},
   "outputs": [
    {
     "name": "stdout",
     "output_type": "stream",
     "text": [
      "Pulling Information on the Symbol SI=F/n\n",
      "Pulling Information on the Symbol BZ=F/n\n",
      "Pulling Information on the Symbol B0=F/n\n",
      "Pulling Information on the Symbol ZC=F/n\n",
      "Pulling Information on the Symbol ZO=F/n\n",
      "Pulling Information on the Symbol PL=F/n\n",
      "Pulling Information on the Symbol HG=F/n\n",
      "Pulling Information on the Symbol PA=F/n\n",
      "Pulling Information on the Symbol CL=F/n\n",
      "Pulling Information on the Symbol NG=F/n\n",
      "Pulling Information on the Symbol ZS=F/n\n",
      "Pulling Information on the Symbol CC=F/n\n",
      "Pulling Information on the Symbol KC=F/n\n"
     ]
    }
   ],
   "source": [
    "for commoditity in comparison:\n",
    "    symbolhistory.append(pull_symbol(commoditity))"
   ]
  },
  {
   "cell_type": "code",
   "execution_count": 4,
   "metadata": {},
   "outputs": [],
   "source": [
    "for i in range(len(symbolhistory)):\n",
    "    ratio.append(start_ratio(reference, symbolhistory[i]))"
   ]
  },
  {
   "cell_type": "code",
   "execution_count": 5,
   "metadata": {},
   "outputs": [
    {
     "name": "stdout",
     "output_type": "stream",
     "text": [
      "                                Open       High        Low      Close  Volume  \\\n",
      "2020-07-27 19:00:00-04:00  43.619999  43.619999  43.619999  43.619999       0   \n",
      "2020-07-27 20:00:00-04:00  43.590000  43.660000  43.509998  43.639999     128   \n",
      "2020-07-27 21:00:00-04:00  43.660000  43.820000  43.610001  43.650002     365   \n",
      "2020-07-27 22:00:00-04:00  43.630001  43.650002  43.549999  43.580002     139   \n",
      "2020-07-27 23:00:00-04:00  43.509998  43.520000  43.439999  43.439999      67   \n",
      "...                              ...        ...        ...        ...     ...   \n",
      "2021-07-27 13:00:00-04:00  74.199997  74.430000  74.120003  74.389999    1297   \n",
      "2021-07-27 14:00:00-04:00  74.370003  74.610001  74.239998  74.320000    3047   \n",
      "2021-07-27 15:00:00-04:00  74.330002  74.570000  74.330002  74.570000     415   \n",
      "2021-07-27 16:00:00-04:00  74.550003  74.779999  74.529999  74.730003     354   \n",
      "2021-07-27 16:59:25-04:00  74.769997  74.769997  74.769997  74.769997       0   \n",
      "\n",
      "                           Dividends  Stock Splits  \n",
      "2020-07-27 19:00:00-04:00          0             0  \n",
      "2020-07-27 20:00:00-04:00          0             0  \n",
      "2020-07-27 21:00:00-04:00          0             0  \n",
      "2020-07-27 22:00:00-04:00          0             0  \n",
      "2020-07-27 23:00:00-04:00          0             0  \n",
      "...                              ...           ...  \n",
      "2021-07-27 13:00:00-04:00          0             0  \n",
      "2021-07-27 14:00:00-04:00          0             0  \n",
      "2021-07-27 15:00:00-04:00          0             0  \n",
      "2021-07-27 16:00:00-04:00          0             0  \n",
      "2021-07-27 16:59:25-04:00          0             0  \n",
      "\n",
      "[5302 rows x 7 columns]\n"
     ]
    }
   ],
   "source": [
    "print(symbolhistory[1])"
   ]
  },
  {
   "cell_type": "code",
   "execution_count": 6,
   "metadata": {},
   "outputs": [
    {
     "name": "stdout",
     "output_type": "stream",
     "text": [
      "[-0.027828314082235274, 1.0846383076668207, 0.014262354066905996, 3.514687204577205, 7.351248064934471, 0.8188562870542371, 0.052732513664450725, 10.281858223946315, 1.079900808759189, 0.06890086312455071, 7.402697058850183, -1.1082797405602696, 4.337864941398732]\n"
     ]
    }
   ],
   "source": [
    "print(ratio)"
   ]
  },
  {
   "cell_type": "code",
   "execution_count": 20,
   "metadata": {},
   "outputs": [],
   "source": [
    "for symbol in comparison:\n",
    "    commodityname.append(pull_symbol_name(symbol))"
   ]
  },
  {
   "cell_type": "code",
   "execution_count": 21,
   "metadata": {},
   "outputs": [
    {
     "name": "stdout",
     "output_type": "stream",
     "text": [
      "['Silver Sep 21', 'Brent Crude Oil Last Day Financ', 'Mont Belvieu LDH Propane (OPIS)', 'Corn Futures,Dec-2021', 'Oat Futures,Dec-2021', 'Platinum Oct 21', 'Copper Sep 21', 'Palladium Sep 21', 'Crude Oil Sep 21', 'Natural Gas Aug 21', 'Soybean Futures,Nov-2021', 'Cocoa Sep 21', 'Coffee Sep 21']\n"
     ]
    }
   ],
   "source": [
    "print(commodityname)"
   ]
  },
  {
   "cell_type": "code",
   "execution_count": 22,
   "metadata": {},
   "outputs": [],
   "source": [
    "d = {'Name:':commodityname,'Current Ratio Score': ratio}"
   ]
  },
  {
   "cell_type": "code",
   "execution_count": 23,
   "metadata": {},
   "outputs": [
    {
     "name": "stdout",
     "output_type": "stream",
     "text": [
      "                              Name:  Current Ratio Score\n",
      "0                     Silver Sep 21            -0.024644\n",
      "1   Brent Crude Oil Last Day Financ             1.076642\n",
      "2   Mont Belvieu LDH Propane (OPIS)             0.014320\n",
      "3             Corn Futures,Dec-2021             3.809224\n",
      "4              Oat Futures,Dec-2021             7.445637\n",
      "5                   Platinum Oct 21             0.848478\n",
      "6                     Copper Sep 21             0.053882\n",
      "7                  Palladium Sep 21            10.730705\n",
      "8                  Crude Oil Sep 21             1.082670\n",
      "9                Natural Gas Aug 21             0.072054\n",
      "10         Soybean Futures,Nov-2021             8.079615\n",
      "11                     Cocoa Sep 21            -1.565374\n",
      "12                    Coffee Sep 21             4.086637\n"
     ]
    }
   ],
   "source": [
    "df = pd.DataFrame(d)\n",
    "print(df)"
   ]
  },
  {
   "cell_type": "markdown",
   "metadata": {},
   "source": [
    "Demonstrate the use of Relative Strength Metrics by calculating using a 14 Day Period"
   ]
  },
  {
   "cell_type": "code",
   "execution_count": 6,
   "metadata": {},
   "outputs": [
    {
     "data": {
      "text/plain": [
       "Date\n",
       "2020-08-14    1.352461\n",
       "2020-08-17    1.760329\n",
       "2020-08-18    1.892102\n",
       "2020-08-19    1.350449\n",
       "2020-08-20    1.136159\n",
       "                ...   \n",
       "2021-07-21    0.867655\n",
       "2021-07-22    0.902602\n",
       "2021-07-23    0.847898\n",
       "2021-07-26    0.808327\n",
       "2021-07-27    0.823219\n",
       "Name: Close, Length: 237, dtype: float64"
      ]
     },
     "execution_count": 6,
     "metadata": {},
     "output_type": "execute_result"
    }
   ],
   "source": [
    "relative_strength(reference, 14)"
   ]
  },
  {
   "cell_type": "code",
   "execution_count": 7,
   "metadata": {},
   "outputs": [],
   "source": [
    "testrsi = relative_strength_index(reference, 14)"
   ]
  },
  {
   "cell_type": "code",
   "execution_count": 8,
   "metadata": {},
   "outputs": [
    {
     "data": {
      "text/plain": [
       "[<matplotlib.lines.Line2D at 0x2264000b430>]"
      ]
     },
     "execution_count": 8,
     "metadata": {},
     "output_type": "execute_result"
    },
    {
     "data": {
      "image/png": "[encoded data removed]",
      "text/plain": [
       "<Figure size 432x288 with 1 Axes>"
      ]
     },
     "metadata": {
      "needs_background": "light"
     },
     "output_type": "display_data"
    }
   ],
   "source": [
    "plt.plot(testrsi)"
   ]
  },
  {
   "cell_type": "code",
   "execution_count": null,
   "metadata": {},
   "outputs": [],
   "source": []
  }
 ],
 "metadata": {
  "kernelspec": {
   "display_name": "Python 3",
   "language": "python",
   "name": "python3"
  },
  "language_info": {
   "codemirror_mode": {
    "name": "ipython",
    "version": 3
   },
   "file_extension": ".py",
   "mimetype": "text/x-python",
   "name": "python",
   "nbconvert_exporter": "python",
   "pygments_lexer": "ipython3",
   "version": "3.8.5"
  }
 },
 "nbformat": 4,
 "nbformat_minor": 4
}
