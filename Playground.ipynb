{
 "cells": [
  {
   "cell_type": "code",
   "execution_count": 1,
   "metadata": {},
   "outputs": [],
   "source": [
    "from tools import *\n",
    "from strategies import *\n",
    "import pandas as pd"
   ]
  },
  {
   "cell_type": "markdown",
   "metadata": {},
   "source": [
    "Testing RatioAnalysis Strategy using Gold as a Reference"
   ]
  },
  {
   "cell_type": "code",
   "execution_count": 16,
   "metadata": {},
   "outputs": [
    {
     "name": "stdout",
     "output_type": "stream",
     "text": [
      "Pulling Information on the Symbol GC=F/n\n"
     ]
    }
   ],
   "source": [
    "reference = pull_symbol(\"GC=F\")\n",
    "comparison = [\"SI=F\", \"BZ=F\", \"B0=F\", \"ZC=F\", \"ZO=F\",\"PL=F\",\"HG=F\",\"PA=F\", \"CL=F\", \"NG=F\",\n",
    "             \"ZS=F\", \"CC=F\", \"KC=F\"]\n",
    "symbolhistory = []\n",
    "commodityname = []\n",
    "ratio = []"
   ]
  },
  {
   "cell_type": "code",
   "execution_count": 17,
   "metadata": {},
   "outputs": [
    {
     "name": "stdout",
     "output_type": "stream",
     "text": [
      "Pulling Information on the Symbol SI=F/n\n",
      "Pulling Information on the Symbol BZ=F/n\n",
      "Pulling Information on the Symbol B0=F/n\n",
      "Pulling Information on the Symbol ZC=F/n\n",
      "Pulling Information on the Symbol ZO=F/n\n",
      "Pulling Information on the Symbol PL=F/n\n",
      "Pulling Information on the Symbol HG=F/n\n",
      "Pulling Information on the Symbol PA=F/n\n",
      "Pulling Information on the Symbol CL=F/n\n",
      "Pulling Information on the Symbol NG=F/n\n",
      "Pulling Information on the Symbol ZS=F/n\n",
      "Pulling Information on the Symbol CC=F/n\n",
      "Pulling Information on the Symbol KC=F/n\n"
     ]
    }
   ],
   "source": [
    "for commoditity in comparison:\n",
    "    symbolhistory.append(pull_symbol(commoditity))"
   ]
  },
  {
   "cell_type": "code",
   "execution_count": 18,
   "metadata": {},
   "outputs": [],
   "source": [
    "for i in range(len(symbolhistory)):\n",
    "    ratio.append(start_ratio(reference, symbolhistory[i]))"
   ]
  },
  {
   "cell_type": "code",
   "execution_count": 19,
   "metadata": {},
   "outputs": [
    {
     "name": "stdout",
     "output_type": "stream",
     "text": [
      "[-0.02464396892358986, 1.076641669309362, 0.014319658375170557, 3.8092244789861396, 7.445636707740014, 0.8484777607702609, 0.05388238710075559, 10.730705498270865, 1.082670168225313, 0.07205392143584738, 8.07961524091706, -1.5653735071965214, 4.086636904483863]\n"
     ]
    }
   ],
   "source": [
    "print(ratio)"
   ]
  },
  {
   "cell_type": "code",
   "execution_count": 20,
   "metadata": {},
   "outputs": [],
   "source": [
    "for symbol in comparison:\n",
    "    commodityname.append(pull_symbol_name(symbol))"
   ]
  },
  {
   "cell_type": "code",
   "execution_count": 21,
   "metadata": {},
   "outputs": [
    {
     "name": "stdout",
     "output_type": "stream",
     "text": [
      "['Silver Sep 21', 'Brent Crude Oil Last Day Financ', 'Mont Belvieu LDH Propane (OPIS)', 'Corn Futures,Dec-2021', 'Oat Futures,Dec-2021', 'Platinum Oct 21', 'Copper Sep 21', 'Palladium Sep 21', 'Crude Oil Sep 21', 'Natural Gas Aug 21', 'Soybean Futures,Nov-2021', 'Cocoa Sep 21', 'Coffee Sep 21']\n"
     ]
    }
   ],
   "source": [
    "print(commodityname)"
   ]
  },
  {
   "cell_type": "code",
   "execution_count": 22,
   "metadata": {},
   "outputs": [],
   "source": [
    "d = {'Name:':commodityname,'Current Ratio Score': ratio}"
   ]
  },
  {
   "cell_type": "code",
   "execution_count": 23,
   "metadata": {},
   "outputs": [
    {
     "name": "stdout",
     "output_type": "stream",
     "text": [
      "                              Name:  Current Ratio Score\n",
      "0                     Silver Sep 21            -0.024644\n",
      "1   Brent Crude Oil Last Day Financ             1.076642\n",
      "2   Mont Belvieu LDH Propane (OPIS)             0.014320\n",
      "3             Corn Futures,Dec-2021             3.809224\n",
      "4              Oat Futures,Dec-2021             7.445637\n",
      "5                   Platinum Oct 21             0.848478\n",
      "6                     Copper Sep 21             0.053882\n",
      "7                  Palladium Sep 21            10.730705\n",
      "8                  Crude Oil Sep 21             1.082670\n",
      "9                Natural Gas Aug 21             0.072054\n",
      "10         Soybean Futures,Nov-2021             8.079615\n",
      "11                     Cocoa Sep 21            -1.565374\n",
      "12                    Coffee Sep 21             4.086637\n"
     ]
    }
   ],
   "source": [
    "df = pd.DataFrame(d)\n",
    "print(df)"
   ]
  },
  {
   "cell_type": "code",
   "execution_count": null,
   "metadata": {},
   "outputs": [],
   "source": []
  }
 ],
 "metadata": {
  "kernelspec": {
   "display_name": "Python 3",
   "language": "python",
   "name": "python3"
  },
  "language_info": {
   "codemirror_mode": {
    "name": "ipython",
    "version": 3
   },
   "file_extension": ".py",
   "mimetype": "text/x-python",
   "name": "python",
   "nbconvert_exporter": "python",
   "pygments_lexer": "ipython3",
   "version": "3.8.5"
  }
 },
 "nbformat": 4,
 "nbformat_minor": 4
}
