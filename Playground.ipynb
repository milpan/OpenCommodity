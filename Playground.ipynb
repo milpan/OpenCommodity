{
 "cells": [
  {
   "cell_type": "code",
   "execution_count": 50,
   "metadata": {},
   "outputs": [],
   "source": [
    "from tools import *\n",
    "from strategies import *\n",
    "import pandas as pd\n",
    "import matplotlib.pyplot as plt\n",
    "from matplotlib.widgets import Slider, Button, RadioButtons"
   ]
  },
  {
   "cell_type": "markdown",
   "metadata": {},
   "source": [
    "Testing RatioAnalysis Strategy using Gold as a Reference"
   ]
  },
  {
   "cell_type": "code",
   "execution_count": 12,
   "metadata": {},
   "outputs": [
    {
     "name": "stdout",
     "output_type": "stream",
     "text": [
      "Pulling Information on the Symbol GC=F/n\n"
     ]
    }
   ],
   "source": [
    "#Specify both a time period and an interval to scrape data from Yahoo Finance\n",
    "timeperiod = \"1y\"\n",
    "interval = \"1d\"\n",
    "\n",
    "reference = pull_symbol(\"GC=F\", timeperiod, interval)\n",
    "comparison = [\"SI=F\", \"BZ=F\", \"B0=F\", \"ZC=F\", \"ZO=F\",\"PL=F\",\"HG=F\",\"PA=F\", \"CL=F\", \"NG=F\",\n",
    "             \"ZS=F\", \"CC=F\", \"KC=F\"]\n",
    "symbolhistory = []\n",
    "commodityname = []\n",
    "ratio = []"
   ]
  },
  {
   "cell_type": "code",
   "execution_count": 13,
   "metadata": {},
   "outputs": [
    {
     "name": "stdout",
     "output_type": "stream",
     "text": [
      "Pulling Information on the Symbol SI=F/n\n",
      "Pulling Information on the Symbol BZ=F/n\n",
      "Pulling Information on the Symbol B0=F/n\n",
      "Pulling Information on the Symbol ZC=F/n\n",
      "Pulling Information on the Symbol ZO=F/n\n",
      "Pulling Information on the Symbol PL=F/n\n",
      "Pulling Information on the Symbol HG=F/n\n",
      "Pulling Information on the Symbol PA=F/n\n",
      "Pulling Information on the Symbol CL=F/n\n",
      "Pulling Information on the Symbol NG=F/n\n",
      "Pulling Information on the Symbol ZS=F/n\n",
      "Pulling Information on the Symbol CC=F/n\n",
      "Pulling Information on the Symbol KC=F/n\n"
     ]
    }
   ],
   "source": [
    "for commoditity in comparison:\n",
    "    symbolhistory.append(pull_symbol(commoditity, timeperiod, interval))"
   ]
  },
  {
   "cell_type": "code",
   "execution_count": 4,
   "metadata": {},
   "outputs": [],
   "source": [
    "for i in range(len(symbolhistory)):\n",
    "    ratio.append(start_ratio(reference, symbolhistory[i]))"
   ]
  },
  {
   "cell_type": "code",
   "execution_count": 5,
   "metadata": {},
   "outputs": [
    {
     "name": "stdout",
     "output_type": "stream",
     "text": [
      "                 Open       High        Low      Close  Volume  Dividends  \\\n",
      "Date                                                                        \n",
      "2020-07-29  43.299999  43.939999  43.200001  43.750000   10911          0   \n",
      "2020-07-30  43.799999  43.820000  41.380001  42.939999    8373          0   \n",
      "2020-07-31  43.320000  43.520000  43.070000  43.299999     519          0   \n",
      "2020-08-03  43.259998  43.259998  43.259998  43.259998   26883          0   \n",
      "2020-08-04  43.910000  44.820000  43.240002  44.430000   27305          0   \n",
      "...               ...        ...        ...        ...     ...        ...   \n",
      "2021-07-23  73.709999  74.209999  73.330002  74.099998   23724          0   \n",
      "2021-07-26  74.169998  74.830002  72.750000  74.500000   23724          0   \n",
      "2021-07-27  74.790001  75.050003  74.019997  74.480003   26028          0   \n",
      "2021-07-28  74.660004  75.309998  74.440002  74.739998   26028          0   \n",
      "2021-07-29  74.809998  75.830002  74.629997  75.660004    6443          0   \n",
      "\n",
      "            Stock Splits  \n",
      "Date                      \n",
      "2020-07-29             0  \n",
      "2020-07-30             0  \n",
      "2020-07-31             0  \n",
      "2020-08-03             0  \n",
      "2020-08-04             0  \n",
      "...                  ...  \n",
      "2021-07-23             0  \n",
      "2021-07-26             0  \n",
      "2021-07-27             0  \n",
      "2021-07-28             0  \n",
      "2021-07-29             0  \n",
      "\n",
      "[248 rows x 7 columns]\n"
     ]
    }
   ],
   "source": [
    "print(symbolhistory[1])"
   ]
  },
  {
   "cell_type": "code",
   "execution_count": 5,
   "metadata": {},
   "outputs": [
    {
     "name": "stdout",
     "output_type": "stream",
     "text": [
      "[-0.0069336290240413, 1.056343308256524, 0.00041428556630015555, 2.723390400558845, 6.464801955258512, 0.5187743823487523, 0.044502607790287016, 10.343292519519999, 1.0628072203310055, 0.06959274323913997, 6.088902740334046, -3.7504970747606725, 3.6726909819950833]\n"
     ]
    }
   ],
   "source": [
    "print(ratio)"
   ]
  },
  {
   "cell_type": "code",
   "execution_count": 7,
   "metadata": {},
   "outputs": [],
   "source": [
    "for symbol in comparison:\n",
    "    commodityname.append(pull_symbol_name(symbol))"
   ]
  },
  {
   "cell_type": "code",
   "execution_count": 8,
   "metadata": {},
   "outputs": [
    {
     "name": "stdout",
     "output_type": "stream",
     "text": [
      "['Silver Sep 21', 'Brent Crude Oil Last Day Financ', 'Mont Belvieu LDH Propane (OPIS)', 'Corn Futures,Dec-2021', 'Oat Futures,Dec-2021', 'Platinum Oct 21', 'Copper Sep 21', 'Palladium Sep 21', 'Crude Oil Sep 21', 'Natural Gas Sep 21', 'Soybean Futures,Nov-2021', 'Cocoa Sep 21', 'Coffee Sep 21']\n"
     ]
    }
   ],
   "source": [
    "print(commodityname)"
   ]
  },
  {
   "cell_type": "code",
   "execution_count": 9,
   "metadata": {},
   "outputs": [],
   "source": [
    "d = {'Name:':commodityname,'Current Ratio Score': ratio}"
   ]
  },
  {
   "cell_type": "code",
   "execution_count": 10,
   "metadata": {},
   "outputs": [
    {
     "name": "stdout",
     "output_type": "stream",
     "text": [
      "                              Name:  Current Ratio Score\n",
      "0                     Silver Sep 21            -0.001295\n",
      "1   Brent Crude Oil Last Day Financ             1.030462\n",
      "2   Mont Belvieu LDH Propane (OPIS)             0.000319\n",
      "3             Corn Futures,Dec-2021             2.574112\n",
      "4              Oat Futures,Dec-2021             6.759026\n",
      "5                   Platinum Oct 21             0.729789\n",
      "6                     Copper Sep 21             0.044549\n",
      "7                  Palladium Sep 21            10.301717\n",
      "8                  Crude Oil Sep 21             1.048572\n",
      "9                Natural Gas Sep 21             0.069087\n",
      "10         Soybean Futures,Nov-2021             5.872771\n",
      "11                     Cocoa Sep 21            -3.985962\n",
      "12                    Coffee Sep 21             3.653440\n"
     ]
    }
   ],
   "source": [
    "df = pd.DataFrame(d)\n",
    "print(df)"
   ]
  },
  {
   "cell_type": "markdown",
   "metadata": {},
   "source": [
    "Demonstrate the use of Relative Strength Metrics by calculating using a 14 Day Period"
   ]
  },
  {
   "cell_type": "code",
   "execution_count": 14,
   "metadata": {},
   "outputs": [
    {
     "data": {
      "text/plain": [
       "Date\n",
       "2020-08-18    0.852604\n",
       "2020-08-19    0.673515\n",
       "2020-08-20    0.591638\n",
       "2020-08-21    0.595844\n",
       "2020-08-24    0.573440\n",
       "                ...   \n",
       "2021-07-23    0.847898\n",
       "2021-07-26    0.808327\n",
       "2021-07-27    0.823219\n",
       "2021-07-28    0.823219\n",
       "2021-07-29    1.557202\n",
       "Name: Close, Length: 237, dtype: float64"
      ]
     },
     "execution_count": 14,
     "metadata": {},
     "output_type": "execute_result"
    }
   ],
   "source": [
    "relative_strength(reference, 14)"
   ]
  },
  {
   "cell_type": "code",
   "execution_count": 15,
   "metadata": {},
   "outputs": [],
   "source": [
    "testrsi = relative_strength_index(reference, 14)"
   ]
  },
  {
   "cell_type": "code",
   "execution_count": 16,
   "metadata": {},
   "outputs": [
    {
     "data": {
      "text/plain": [
       "[<matplotlib.lines.Line2D at 0x1be7d3e7160>]"
      ]
     },
     "execution_count": 16,
     "metadata": {},
     "output_type": "execute_result"
    },
    {
     "data": {
      "image/png": "[encoded data removed]",
      "text/plain": [
       "<Figure size 432x288 with 1 Axes>"
      ]
     },
     "metadata": {
      "needs_background": "light"
     },
     "output_type": "display_data"
    }
   ],
   "source": [
    "plt.plot(testrsi)"
   ]
  },
  {
   "cell_type": "markdown",
   "metadata": {},
   "source": [
    "Now Demonstrate Building a Portfolio"
   ]
  },
  {
   "cell_type": "code",
   "execution_count": 54,
   "metadata": {},
   "outputs": [
    {
     "data": {
      "image/png": "[encoded data removed]",
      "text/plain": [
       "<Figure size 432x288 with 2 Axes>"
      ]
     },
     "metadata": {},
     "output_type": "display_data"
    }
   ],
   "source": []
  },
  {
   "cell_type": "code",
   "execution_count": 49,
   "metadata": {},
   "outputs": [
    {
     "name": "stderr",
     "output_type": "stream",
     "text": [
      "Enabling notebook extension jupyter-js-widgets/extension...\n",
      "      - Validating: ok\n"
     ]
    },
    {
     "data": {
      "image/png": "[encoded data removed]",
      "text/plain": [
       "<Figure size 432x288 with 1 Axes>"
      ]
     },
     "metadata": {
      "needs_background": "light"
     },
     "output_type": "display_data"
    },
    {
     "data": {
      "application/vnd.jupyter.widget-view+json": {
       "model_id": "25f6c7a2b7d440219db67694652fba24",
       "version_major": 2,
       "version_minor": 0
      },
      "text/plain": [
       "interactive(children=(IntSlider(value=50, description='gold_amount'), Output()), _dom_classes=('widget-interac…"
      ]
     },
     "metadata": {},
     "output_type": "display_data"
    },
    {
     "data": {
      "application/vnd.jupyter.widget-view+json": {
       "model_id": "a485520228274abb966ac2c2d48f14db",
       "version_major": 2,
       "version_minor": 0
      },
      "text/plain": [
       "interactive(children=(IntSlider(value=50, description='silver_amount'), Output()), _dom_classes=('widget-inter…"
      ]
     },
     "metadata": {},
     "output_type": "display_data"
    }
   ],
   "source": [
    "!jupyter nbextension enable --py widgetsnbextension\n",
    "rsisilver_var = 50\n",
    "rsigold_var = 50\n",
    "x, = plt.plot(50)\n",
    "@interact(gold_amount=(0, 100))\n",
    "def double_number(gold_amount):\n",
    "    rsigold_var = relative_strength_index(reference * gold_amount, 14)\n",
    "    average_rsi = (rsigold_var+rsisilver_var)/2\n",
    "    x.set_data(average_rsi)\n",
    "@interact(silver_amount=(0, 100))\n",
    "def double_number(silver_amount):\n",
    "    rsisilver_var = relative_strength_index(symbolhistory[0] * silver_amount, 14)\n",
    "    average_rsi = (rsigold_var+rsisilver_var)/2"
   ]
  },
  {
   "cell_type": "markdown",
   "metadata": {},
   "source": [
    "Testing Implementation to Visualise Volatility of the Sectors"
   ]
  },
  {
   "cell_type": "code",
   "execution_count": null,
   "metadata": {},
   "outputs": [],
   "source": []
  }
 ],
 "metadata": {
  "kernelspec": {
   "display_name": "Python 3",
   "language": "python",
   "name": "python3"
  },
  "language_info": {
   "codemirror_mode": {
    "name": "ipython",
    "version": 3
   },
   "file_extension": ".py",
   "mimetype": "text/x-python",
   "name": "python",
   "nbconvert_exporter": "python",
   "pygments_lexer": "ipython3",
   "version": "3.8.5"
  }
 },
 "nbformat": 4,
 "nbformat_minor": 4
}
