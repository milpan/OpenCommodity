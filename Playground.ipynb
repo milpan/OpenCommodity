{
 "cells": [
  {
   "cell_type": "code",
   "execution_count": 1,
   "metadata": {},
   "outputs": [],
   "source": [
    "from tools import *\n",
    "from strategies import *\n",
    "import pandas as pd\n",
    "import matplotlib.pyplot as plt\n",
    "from matplotlib.widgets import Slider, Button, RadioButtons"
   ]
  },
  {
   "cell_type": "markdown",
   "metadata": {},
   "source": [
    "Testing RatioAnalysis Strategy using Gold as a Reference"
   ]
  },
  {
   "cell_type": "code",
   "execution_count": 2,
   "metadata": {},
   "outputs": [
    {
     "name": "stdout",
     "output_type": "stream",
     "text": [
      "Pulling Information on the Symbol GC=F/n\n"
     ]
    }
   ],
   "source": [
    "#Specify both a time period and an interval to scrape data from Yahoo Finance\n",
    "timeperiod = \"1y\"\n",
    "interval = \"1d\"\n",
    "\n",
    "reference = pull_symbol(\"GC=F\", timeperiod, interval)\n",
    "comparison = [\"SI=F\", \"BZ=F\", \"B0=F\", \"ZC=F\", \"ZO=F\",\"PL=F\",\"HG=F\",\"PA=F\", \"CL=F\", \"NG=F\",\n",
    "             \"ZS=F\", \"CC=F\", \"KC=F\"]\n",
    "symbolhistory = []\n",
    "commodityname = []\n",
    "ratio = []"
   ]
  },
  {
   "cell_type": "code",
   "execution_count": 3,
   "metadata": {},
   "outputs": [
    {
     "name": "stdout",
     "output_type": "stream",
     "text": [
      "Pulling Information on the Symbol SI=F/n\n",
      "Pulling Information on the Symbol BZ=F/n\n",
      "Pulling Information on the Symbol B0=F/n\n",
      "Pulling Information on the Symbol ZC=F/n\n",
      "Pulling Information on the Symbol ZO=F/n\n",
      "Pulling Information on the Symbol PL=F/n\n",
      "Pulling Information on the Symbol HG=F/n\n",
      "Pulling Information on the Symbol PA=F/n\n",
      "Pulling Information on the Symbol CL=F/n\n",
      "Pulling Information on the Symbol NG=F/n\n",
      "Pulling Information on the Symbol ZS=F/n\n",
      "Pulling Information on the Symbol CC=F/n\n",
      "Pulling Information on the Symbol KC=F/n\n"
     ]
    }
   ],
   "source": [
    "for commoditity in comparison:\n",
    "    symbolhistory.append(pull_symbol(commoditity, timeperiod, interval))"
   ]
  },
  {
   "cell_type": "code",
   "execution_count": 4,
   "metadata": {},
   "outputs": [],
   "source": [
    "for i in range(len(symbolhistory)):\n",
    "    ratio.append(start_ratio(reference, symbolhistory[i]))"
   ]
  },
  {
   "cell_type": "code",
   "execution_count": 5,
   "metadata": {},
   "outputs": [
    {
     "name": "stdout",
     "output_type": "stream",
     "text": [
      "                 Open       High        Low      Close  Volume  Dividends  \\\n",
      "Date                                                                        \n",
      "2020-08-24  44.419998  45.169998  44.279999  45.130001   21033          0   \n",
      "2020-08-25  44.990002  46.040001  44.990002  45.860001   23808          0   \n",
      "2020-08-26  45.980000  46.090000  45.549999  45.639999   16657          0   \n",
      "2020-08-27  45.619999  45.820000  44.560001  45.090000   10776          0   \n",
      "2020-08-28  45.049999  45.290001  44.820000  45.049999     620          0   \n",
      "...               ...        ...        ...        ...     ...        ...   \n",
      "2021-08-16  70.220001  70.400002  68.139999  69.510002   33537          0   \n",
      "2021-08-17  69.650002  70.010002  68.820000  69.029999   29163          0   \n",
      "2021-08-18  69.010002  70.040001  67.220001  68.230003   34264          0   \n",
      "2021-08-19  67.419998  67.650002  65.559998  66.449997   35816          0   \n",
      "2021-08-20  66.599998  66.919998  64.800003  64.980003   25633          0   \n",
      "\n",
      "            Stock Splits  \n",
      "Date                      \n",
      "2020-08-24             0  \n",
      "2020-08-25             0  \n",
      "2020-08-26             0  \n",
      "2020-08-27             0  \n",
      "2020-08-28             0  \n",
      "...                  ...  \n",
      "2021-08-16             0  \n",
      "2021-08-17             0  \n",
      "2021-08-18             0  \n",
      "2021-08-19             0  \n",
      "2021-08-20             0  \n",
      "\n",
      "[246 rows x 7 columns]\n"
     ]
    }
   ],
   "source": [
    "print(symbolhistory[1])"
   ]
  },
  {
   "cell_type": "code",
   "execution_count": 6,
   "metadata": {},
   "outputs": [
    {
     "name": "stdout",
     "output_type": "stream",
     "text": [
      "[-0.1163847571867738, 0.4343495404246722, 0.001655608214127754, 1.4151473145382454, 8.241533755833139, -2.3966048235782744, 0.023504994775487998, -9.104364295576861, 0.40806138048931284, 0.05577658548932788, 0.9282807780254809, 7.136635532505675, 2.760201946914245]\n"
     ]
    }
   ],
   "source": [
    "print(ratio)"
   ]
  },
  {
   "cell_type": "code",
   "execution_count": 7,
   "metadata": {},
   "outputs": [],
   "source": [
    "for symbol in comparison:\n",
    "    commodityname.append(pull_symbol_name(symbol))"
   ]
  },
  {
   "cell_type": "code",
   "execution_count": 8,
   "metadata": {},
   "outputs": [
    {
     "name": "stdout",
     "output_type": "stream",
     "text": [
      "['Silver Sep 21', 'Brent Crude Oil Last Day Financ', 'Mont Belvieu LDH Propane (OPIS)', 'Corn Futures,Dec-2021', 'Oat Futures,Dec-2021', 'Platinum Oct 21', 'Copper Sep 21', 'Palladium Sep 21', 'Crude Oil Sep 21', 'Natural Gas Sep 21', 'Soybean Futures,Nov-2021', 'Cocoa Dec 21', 'Coffee Dec 21']\n"
     ]
    }
   ],
   "source": [
    "print(commodityname)"
   ]
  },
  {
   "cell_type": "code",
   "execution_count": 9,
   "metadata": {},
   "outputs": [],
   "source": [
    "d = {'Name:':commodityname,'Current Ratio Score': ratio}"
   ]
  },
  {
   "cell_type": "code",
   "execution_count": 10,
   "metadata": {},
   "outputs": [
    {
     "name": "stdout",
     "output_type": "stream",
     "text": [
      "                              Name:  Current Ratio Score\n",
      "0                     Silver Sep 21            -0.081901\n",
      "1   Brent Crude Oil Last Day Financ             0.704018\n",
      "2   Mont Belvieu LDH Propane (OPIS)             0.001498\n",
      "3             Corn Futures,Dec-2021             3.094366\n",
      "4              Oat Futures,Dec-2021             8.752376\n",
      "5                   Platinum Oct 21            -2.297312\n",
      "6                     Copper Sep 21             0.025563\n",
      "7                  Palladium Sep 21             2.119238\n",
      "8                  Crude Oil Sep 21             0.708299\n",
      "9                Natural Gas Sep 21             0.057602\n",
      "10         Soybean Futures,Nov-2021             4.776380\n",
      "11                     Cocoa Dec 21            13.309356\n",
      "12                    Coffee Dec 21             2.907760\n"
     ]
    }
   ],
   "source": [
    "df = pd.DataFrame(d)\n",
    "print(df)"
   ]
  },
  {
   "cell_type": "markdown",
   "metadata": {},
   "source": [
    "Demonstrate the use of Relative Strength Metrics by calculating using a 14 Day Period"
   ]
  },
  {
   "cell_type": "code",
   "execution_count": 11,
   "metadata": {},
   "outputs": [
    {
     "data": {
      "text/plain": [
       "Date\n",
       "2020-09-08    0.193522\n",
       "2020-09-09    0.237448\n",
       "2020-09-10    0.275858\n",
       "2020-09-11    0.257472\n",
       "2020-09-14    0.324434\n",
       "                ...   \n",
       "2021-08-12    0.587383\n",
       "2021-08-13    0.857778\n",
       "2021-08-16    0.987817\n",
       "2021-08-17    0.965852\n",
       "2021-08-18    1.023827\n",
       "Name: Close, Length: 237, dtype: float64"
      ]
     },
     "execution_count": 11,
     "metadata": {},
     "output_type": "execute_result"
    }
   ],
   "source": [
    "relative_strength(reference, 14)"
   ]
  },
  {
   "cell_type": "code",
   "execution_count": 12,
   "metadata": {},
   "outputs": [],
   "source": [
    "testrsi = relative_strength_index(reference, 14)"
   ]
  },
  {
   "cell_type": "code",
   "execution_count": 13,
   "metadata": {},
   "outputs": [
    {
     "data": {
      "text/plain": [
       "[<matplotlib.lines.Line2D at 0x2ae62370ac0>]"
      ]
     },
     "execution_count": 13,
     "metadata": {},
     "output_type": "execute_result"
    },
    {
     "data": {
      "image/png": "[encoded data removed]",
      "text/plain": [
       "<Figure size 432x288 with 1 Axes>"
      ]
     },
     "metadata": {
      "needs_background": "light"
     },
     "output_type": "display_data"
    }
   ],
   "source": [
    "plt.plot(testrsi)"
   ]
  },
  {
   "cell_type": "markdown",
   "metadata": {},
   "source": [
    "Now Demonstrate Building a Portfolio"
   ]
  },
  {
   "cell_type": "code",
   "execution_count": 54,
   "metadata": {},
   "outputs": [
    {
     "data": {
      "image/png": "[encoded data removed]",
      "text/plain": [
       "<Figure size 432x288 with 2 Axes>"
      ]
     },
     "metadata": {},
     "output_type": "display_data"
    }
   ],
   "source": []
  },
  {
   "cell_type": "code",
   "execution_count": 49,
   "metadata": {},
   "outputs": [
    {
     "name": "stderr",
     "output_type": "stream",
     "text": [
      "Enabling notebook extension jupyter-js-widgets/extension...\n",
      "      - Validating: ok\n"
     ]
    },
    {
     "data": {
      "image/png": "[encoded data removed]",
      "text/plain": [
       "<Figure size 432x288 with 1 Axes>"
      ]
     },
     "metadata": {
      "needs_background": "light"
     },
     "output_type": "display_data"
    },
    {
     "data": {
      "application/vnd.jupyter.widget-view+json": {
       "model_id": "25f6c7a2b7d440219db67694652fba24",
       "version_major": 2,
       "version_minor": 0
      },
      "text/plain": [
       "interactive(children=(IntSlider(value=50, description='gold_amount'), Output()), _dom_classes=('widget-interac…"
      ]
     },
     "metadata": {},
     "output_type": "display_data"
    },
    {
     "data": {
      "application/vnd.jupyter.widget-view+json": {
       "model_id": "a485520228274abb966ac2c2d48f14db",
       "version_major": 2,
       "version_minor": 0
      },
      "text/plain": [
       "interactive(children=(IntSlider(value=50, description='silver_amount'), Output()), _dom_classes=('widget-inter…"
      ]
     },
     "metadata": {},
     "output_type": "display_data"
    }
   ],
   "source": [
    "!jupyter nbextension enable --py widgetsnbextension\n",
    "rsisilver_var = 50\n",
    "rsigold_var = 50\n",
    "x, = plt.plot(50)\n",
    "@interact(gold_amount=(0, 100))\n",
    "def double_number(gold_amount):\n",
    "    rsigold_var = relative_strength_index(reference * gold_amount, 14)\n",
    "    average_rsi = (rsigold_var+rsisilver_var)/2\n",
    "    x.set_data(average_rsi)\n",
    "@interact(silver_amount=(0, 100))\n",
    "def double_number(silver_amount):\n",
    "    rsisilver_var = relative_strength_index(symbolhistory[0] * silver_amount, 14)\n",
    "    average_rsi = (rsigold_var+rsisilver_var)/2"
   ]
  },
  {
   "cell_type": "markdown",
   "metadata": {},
   "source": [
    "Testing Implementation to Visualise Volatility of the Sectors"
   ]
  },
  {
   "cell_type": "code",
   "execution_count": null,
   "metadata": {},
   "outputs": [],
   "source": []
  }
 ],
 "metadata": {
  "kernelspec": {
   "display_name": "Python 3",
   "language": "python",
   "name": "python3"
  },
  "language_info": {
   "codemirror_mode": {
    "name": "ipython",
    "version": 3
   },
   "file_extension": ".py",
   "mimetype": "text/x-python",
   "name": "python",
   "nbconvert_exporter": "python",
   "pygments_lexer": "ipython3",
   "version": "3.8.5"
  }
 },
 "nbformat": 4,
 "nbformat_minor": 4
}
