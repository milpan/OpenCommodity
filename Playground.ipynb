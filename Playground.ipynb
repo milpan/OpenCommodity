{
 "cells": [
  {
   "cell_type": "code",
   "execution_count": 1,
   "metadata": {},
   "outputs": [],
   "source": [
    "from tools import *\n",
    "from strategies import *\n",
    "import pandas as pd\n",
    "import matplotlib.pyplot as plt"
   ]
  },
  {
   "cell_type": "markdown",
   "metadata": {},
   "source": [
    "Testing RatioAnalysis Strategy using Gold as a Reference"
   ]
  },
  {
   "cell_type": "code",
   "execution_count": 9,
   "metadata": {},
   "outputs": [
    {
     "name": "stdout",
     "output_type": "stream",
     "text": [
      "Pulling Information on the Symbol GC=F/n\n"
     ]
    }
   ],
   "source": [
    "#Specify both a time period and an interval to scrape data from Yahoo Finance\n",
    "timeperiod = \"1y\"\n",
    "interval = \"1d\"\n",
    "\n",
    "reference = pull_symbol(\"GC=F\", timeperiod, interval)\n",
    "comparison = [\"SI=F\", \"BZ=F\", \"B0=F\", \"ZC=F\", \"ZO=F\",\"PL=F\",\"HG=F\",\"PA=F\", \"CL=F\", \"NG=F\",\n",
    "             \"ZS=F\", \"CC=F\", \"KC=F\"]\n",
    "symbolhistory = []\n",
    "commodityname = []\n",
    "ratio = []"
   ]
  },
  {
   "cell_type": "code",
   "execution_count": 12,
   "metadata": {},
   "outputs": [
    {
     "name": "stdout",
     "output_type": "stream",
     "text": [
      "Pulling Information on the Symbol SI=F/n\n",
      "Pulling Information on the Symbol BZ=F/n\n",
      "Pulling Information on the Symbol B0=F/n\n",
      "Pulling Information on the Symbol ZC=F/n\n",
      "Pulling Information on the Symbol ZO=F/n\n",
      "Pulling Information on the Symbol PL=F/n\n",
      "Pulling Information on the Symbol HG=F/n\n",
      "Pulling Information on the Symbol PA=F/n\n",
      "Pulling Information on the Symbol CL=F/n\n",
      "Pulling Information on the Symbol NG=F/n\n",
      "Pulling Information on the Symbol ZS=F/n\n",
      "Pulling Information on the Symbol CC=F/n\n",
      "Pulling Information on the Symbol KC=F/n\n"
     ]
    }
   ],
   "source": [
    "for commoditity in comparison:\n",
    "    symbolhistory.append(pull_symbol(commoditity, timeperiod, interval))"
   ]
  },
  {
   "cell_type": "code",
   "execution_count": 13,
   "metadata": {},
   "outputs": [],
   "source": [
    "for i in range(len(symbolhistory)):\n",
    "    ratio.append(start_ratio(reference, symbolhistory[i]))"
   ]
  },
  {
   "cell_type": "code",
   "execution_count": 14,
   "metadata": {},
   "outputs": [
    {
     "name": "stdout",
     "output_type": "stream",
     "text": [
      "                 Open       High        Low      Close  Volume  Dividends  \\\n",
      "Date                                                                        \n",
      "2020-07-27  43.400002  43.770000  42.380001  43.410000   22507          0   \n",
      "2020-07-28  43.619999  43.820000  43.009998  43.220001   17828          0   \n",
      "2020-07-29  43.299999  43.939999  43.200001  43.750000   10911          0   \n",
      "2020-07-30  43.799999  43.820000  41.380001  42.939999    8373          0   \n",
      "2020-07-31  43.320000  43.520000  43.070000  43.299999     519          0   \n",
      "...               ...        ...        ...        ...     ...        ...   \n",
      "2021-07-21  68.739998  72.360001  68.639999  72.230003   43341          0   \n",
      "2021-07-22  72.099998  73.900002  71.750000  73.790001   43341          0   \n",
      "2021-07-23  73.709999  74.209999  73.330002  74.099998   23724          0   \n",
      "2021-07-26  74.169998  74.830002  72.750000  74.500000   23724          0   \n",
      "2021-07-27  74.660004  74.669998  74.660004  74.669998       6          0   \n",
      "\n",
      "            Stock Splits  \n",
      "Date                      \n",
      "2020-07-27             0  \n",
      "2020-07-28             0  \n",
      "2020-07-29             0  \n",
      "2020-07-30             0  \n",
      "2020-07-31             0  \n",
      "...                  ...  \n",
      "2021-07-21             0  \n",
      "2021-07-22             0  \n",
      "2021-07-23             0  \n",
      "2021-07-26             0  \n",
      "2021-07-27             0  \n",
      "\n",
      "[248 rows x 7 columns]\n"
     ]
    }
   ],
   "source": [
    "print(symbolhistory[1])"
   ]
  },
  {
   "cell_type": "code",
   "execution_count": 15,
   "metadata": {},
   "outputs": [
    {
     "name": "stdout",
     "output_type": "stream",
     "text": [
      "[-0.02751117851057302, 1.0731467206702645, 0.0014007640485704746, 2.8729920173010792, 7.282488063176482, 1.1592784292880465, 0.05190569362656613, 9.690112043628263, 1.0654798887640067, 0.06889308801575995, 6.758947259610048, -2.6280692332773192, 4.366773185853449]\n"
     ]
    }
   ],
   "source": [
    "print(ratio)"
   ]
  },
  {
   "cell_type": "code",
   "execution_count": 16,
   "metadata": {},
   "outputs": [],
   "source": [
    "for symbol in comparison:\n",
    "    commodityname.append(pull_symbol_name(symbol))"
   ]
  },
  {
   "cell_type": "code",
   "execution_count": 17,
   "metadata": {},
   "outputs": [
    {
     "name": "stdout",
     "output_type": "stream",
     "text": [
      "['Silver Sep 21', 'Brent Crude Oil Last Day Financ', 'Mont Belvieu LDH Propane (OPIS)', 'Corn Futures,Dec-2021', 'Oat Futures,Dec-2021', 'Platinum Oct 21', 'Copper Sep 21', 'Palladium Sep 21', 'Crude Oil Sep 21', 'Natural Gas Aug 21', 'Soybean Futures,Nov-2021', 'Cocoa Sep 21', 'Coffee Sep 21']\n"
     ]
    }
   ],
   "source": [
    "print(commodityname)"
   ]
  },
  {
   "cell_type": "code",
   "execution_count": 18,
   "metadata": {},
   "outputs": [],
   "source": [
    "d = {'Name:':commodityname,'Current Ratio Score': ratio}"
   ]
  },
  {
   "cell_type": "code",
   "execution_count": 19,
   "metadata": {},
   "outputs": [
    {
     "name": "stdout",
     "output_type": "stream",
     "text": [
      "                              Name:  Current Ratio Score\n",
      "0                     Silver Sep 21            -0.027511\n",
      "1   Brent Crude Oil Last Day Financ             1.073147\n",
      "2   Mont Belvieu LDH Propane (OPIS)             0.001401\n",
      "3             Corn Futures,Dec-2021             2.872992\n",
      "4              Oat Futures,Dec-2021             7.282488\n",
      "5                   Platinum Oct 21             1.159278\n",
      "6                     Copper Sep 21             0.051906\n",
      "7                  Palladium Sep 21             9.690112\n",
      "8                  Crude Oil Sep 21             1.065480\n",
      "9                Natural Gas Aug 21             0.068893\n",
      "10         Soybean Futures,Nov-2021             6.758947\n",
      "11                     Cocoa Sep 21            -2.628069\n",
      "12                    Coffee Sep 21             4.366773\n"
     ]
    }
   ],
   "source": [
    "df = pd.DataFrame(d)\n",
    "print(df)"
   ]
  },
  {
   "cell_type": "markdown",
   "metadata": {},
   "source": [
    "Demonstrate the use of Relative Strength Metrics by calculating using a 14 Day Period"
   ]
  },
  {
   "cell_type": "code",
   "execution_count": 20,
   "metadata": {},
   "outputs": [
    {
     "data": {
      "text/plain": [
       "Date\n",
       "2020-08-14    1.352461\n",
       "2020-08-17    1.760329\n",
       "2020-08-18    1.892102\n",
       "2020-08-19    1.350449\n",
       "2020-08-20    1.136159\n",
       "                ...   \n",
       "2021-07-21    0.867655\n",
       "2021-07-22    0.902602\n",
       "2021-07-23    0.847898\n",
       "2021-07-26    0.808327\n",
       "2021-07-27    0.828805\n",
       "Name: Close, Length: 237, dtype: float64"
      ]
     },
     "execution_count": 20,
     "metadata": {},
     "output_type": "execute_result"
    }
   ],
   "source": [
    "relative_strength(reference, 14)"
   ]
  },
  {
   "cell_type": "code",
   "execution_count": 21,
   "metadata": {},
   "outputs": [],
   "source": [
    "testrsi = relative_strength_index(reference, 14)"
   ]
  },
  {
   "cell_type": "code",
   "execution_count": 22,
   "metadata": {},
   "outputs": [
    {
     "data": {
      "text/plain": [
       "[<matplotlib.lines.Line2D at 0x2264137f2e0>]"
      ]
     },
     "execution_count": 22,
     "metadata": {},
     "output_type": "execute_result"
    },
    {
     "data": {
      "image/png": "[encoded data removed]",
      "text/plain": [
       "<Figure size 432x288 with 1 Axes>"
      ]
     },
     "metadata": {
      "needs_background": "light"
     },
     "output_type": "display_data"
    }
   ],
   "source": [
    "plt.plot(testrsi)"
   ]
  },
  {
   "cell_type": "code",
   "execution_count": null,
   "metadata": {},
   "outputs": [],
   "source": []
  }
 ],
 "metadata": {
  "kernelspec": {
   "display_name": "Python 3",
   "language": "python",
   "name": "python3"
  },
  "language_info": {
   "codemirror_mode": {
    "name": "ipython",
    "version": 3
   },
   "file_extension": ".py",
   "mimetype": "text/x-python",
   "name": "python",
   "nbconvert_exporter": "python",
   "pygments_lexer": "ipython3",
   "version": "3.8.5"
  }
 },
 "nbformat": 4,
 "nbformat_minor": 4
}
