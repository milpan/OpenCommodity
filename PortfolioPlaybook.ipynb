{
 "cells": [
  {
   "cell_type": "markdown",
   "metadata": {},
   "source": [
    "# Portfolio Management Tools"
   ]
  },
  {
   "cell_type": "markdown",
   "metadata": {},
   "source": [
    "This notebook demonstrates building an example portfolio, and calculating metrics such as the sharpe ratio."
   ]
  },
  {
   "cell_type": "code",
   "execution_count": 1,
   "metadata": {},
   "outputs": [],
   "source": [
    "from tools import *\n",
    "from strategies import *\n",
    "from metrics import *\n",
    "import pandas as pd\n",
    "import matplotlib.pyplot as plt"
   ]
  },
  {
   "cell_type": "code",
   "execution_count": 2,
   "metadata": {},
   "outputs": [
    {
     "name": "stdout",
     "output_type": "stream",
     "text": [
      "Pulling Information on the Symbol SI=F/n\n",
      "Pulling Information on the Symbol GC=F/n\n",
      "Pulling Information on the Symbol PL=F/n\n"
     ]
    }
   ],
   "source": [
    "#Define Symbols of which to Optimize (let's for example: use 3 metals)\n",
    "Symbol = ['SI=F', 'GC=F', 'PL=F']\n",
    "symbolhistory = []\n",
    "#Pull the Data\n",
    "for commodity in Symbol:\n",
    "    symbolhistory.append(pull_symbol(commodity))"
   ]
  },
  {
   "cell_type": "markdown",
   "metadata": {},
   "source": [
    "Using the Close Price"
   ]
  },
  {
   "cell_type": "code",
   "execution_count": 3,
   "metadata": {},
   "outputs": [
    {
     "data": {
      "text/html": [
       "<div>\n",
       "<style scoped>\n",
       "    .dataframe tbody tr th:only-of-type {\n",
       "        vertical-align: middle;\n",
       "    }\n",
       "\n",
       "    .dataframe tbody tr th {\n",
       "        vertical-align: top;\n",
       "    }\n",
       "\n",
       "    .dataframe thead th {\n",
       "        text-align: right;\n",
       "    }\n",
       "</style>\n",
       "<table border=\"1\" class=\"dataframe\">\n",
       "  <thead>\n",
       "    <tr style=\"text-align: right;\">\n",
       "      <th></th>\n",
       "      <th>Close</th>\n",
       "      <th>Symbol</th>\n",
       "    </tr>\n",
       "    <tr>\n",
       "      <th>Date</th>\n",
       "      <th></th>\n",
       "      <th></th>\n",
       "    </tr>\n",
       "  </thead>\n",
       "  <tbody>\n",
       "    <tr>\n",
       "      <th>2020-08-06</th>\n",
       "      <td>28.386999</td>\n",
       "      <td>SI=F</td>\n",
       "    </tr>\n",
       "    <tr>\n",
       "      <th>2020-08-07</th>\n",
       "      <td>27.533001</td>\n",
       "      <td>SI=F</td>\n",
       "    </tr>\n",
       "    <tr>\n",
       "      <th>2020-08-10</th>\n",
       "      <td>29.249001</td>\n",
       "      <td>SI=F</td>\n",
       "    </tr>\n",
       "    <tr>\n",
       "      <th>2020-08-11</th>\n",
       "      <td>26.037001</td>\n",
       "      <td>SI=F</td>\n",
       "    </tr>\n",
       "    <tr>\n",
       "      <th>2020-08-12</th>\n",
       "      <td>25.955000</td>\n",
       "      <td>SI=F</td>\n",
       "    </tr>\n",
       "    <tr>\n",
       "      <th>...</th>\n",
       "      <td>...</td>\n",
       "      <td>...</td>\n",
       "    </tr>\n",
       "    <tr>\n",
       "      <th>2021-08-02</th>\n",
       "      <td>1054.900024</td>\n",
       "      <td>PL=F</td>\n",
       "    </tr>\n",
       "    <tr>\n",
       "      <th>2021-08-03</th>\n",
       "      <td>1045.800049</td>\n",
       "      <td>PL=F</td>\n",
       "    </tr>\n",
       "    <tr>\n",
       "      <th>2021-08-04</th>\n",
       "      <td>1020.400024</td>\n",
       "      <td>PL=F</td>\n",
       "    </tr>\n",
       "    <tr>\n",
       "      <th>2021-08-05</th>\n",
       "      <td>1005.500000</td>\n",
       "      <td>PL=F</td>\n",
       "    </tr>\n",
       "    <tr>\n",
       "      <th>2021-08-06</th>\n",
       "      <td>986.200012</td>\n",
       "      <td>PL=F</td>\n",
       "    </tr>\n",
       "  </tbody>\n",
       "</table>\n",
       "<p>741 rows × 2 columns</p>\n",
       "</div>"
      ],
      "text/plain": [
       "                  Close Symbol\n",
       "Date                          \n",
       "2020-08-06    28.386999   SI=F\n",
       "2020-08-07    27.533001   SI=F\n",
       "2020-08-10    29.249001   SI=F\n",
       "2020-08-11    26.037001   SI=F\n",
       "2020-08-12    25.955000   SI=F\n",
       "...                 ...    ...\n",
       "2021-08-02  1054.900024   PL=F\n",
       "2021-08-03  1045.800049   PL=F\n",
       "2021-08-04  1020.400024   PL=F\n",
       "2021-08-05  1005.500000   PL=F\n",
       "2021-08-06   986.200012   PL=F\n",
       "\n",
       "[741 rows x 2 columns]"
      ]
     },
     "execution_count": 3,
     "metadata": {},
     "output_type": "execute_result"
    }
   ],
   "source": [
    "calculate_sharpe(symbolhistory, Symbol)"
   ]
  },
  {
   "cell_type": "code",
   "execution_count": null,
   "metadata": {},
   "outputs": [],
   "source": []
  },
  {
   "cell_type": "code",
   "execution_count": null,
   "metadata": {},
   "outputs": [],
   "source": []
  }
 ],
 "metadata": {
  "kernelspec": {
   "display_name": "Python 3",
   "language": "python",
   "name": "python3"
  },
  "language_info": {
   "codemirror_mode": {
    "name": "ipython",
    "version": 3
   },
   "file_extension": ".py",
   "mimetype": "text/x-python",
   "name": "python",
   "nbconvert_exporter": "python",
   "pygments_lexer": "ipython3",
   "version": "3.8.5"
  }
 },
 "nbformat": 4,
 "nbformat_minor": 4
}
